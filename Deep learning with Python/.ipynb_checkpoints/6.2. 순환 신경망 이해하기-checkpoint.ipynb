{
 "cells": [
  {
   "cell_type": "markdown",
   "metadata": {},
   "source": [
    "+ 완전 연결 네트워크나 컨브넷의 특징은 메모리가 없다는 것임. 이런 네트워크로 시퀀스나 시계열 데이터 포인트를 처리하려면 네트워크에 전체 시퀀스를 주입해야 함. 즉 전체 시퀀스를 하나의 데이터 포인트로 변환해야 함. 이런 네트워크를 **피드포워드 네트워크**(feedforward network)라고 부름.\n",
    "+ 이와 반대로 사람의 문장을 읽는 것처럼 이전에 나온 것을 기억하면서 단어별로 또는 한눈에 들어오는 만큼씩 처리할 수 있음. 이 모델은 과거 정보를 사용하며 구축되며 새롭게 얻은 정보를 계속 업데이트 함.\n",
    "+ **순환 신경망**(recurrent neural network, RNN)이 이런 네트워크의 한 사례라고 볼 수 있음.\n",
    "    + 시퀀스의 원소를 순회하면서 지금까지 처리한 정보를 **상태**(state)에 저장함.\n",
    "    + RNN은 내부에 루프(loop)를 가진 신경망의 한 종류임.\n",
    "    + (IMDB의 사례의 경우) RNN의 상태는 2개의 다른 시퀀스를 처리하는 사이에 재설정됨. 하나의 시퀀스가 여전히 하나의 데이터 포인트로 간주됨.\n",
    "    + 네트워크는 시퀀스의 원소를 차례대로 방문함.\n",
    "    \n",
    "*순환 네트워크 루프를 가진 네트워크*\n",
    "\n",
    "<a href=\"https://ibb.co/LdtL67R\"><img src=\"https://i.ibb.co/v4P7mnq/539-DEDE0-306-F-4132-B1-BC-3-A6-ACDF9-C679-png.jpg\" alt=\"539-DEDE0-306-F-4132-B1-BC-3-A6-ACDF9-C679-png\" width=\"300\" height=\"300\" align=left border=\"0\"></a><br /><a target='_blank' href='https://carinsuranceguru.org/is-it-possible-to-buy-a-car-and-insurance-for-a-tourist-in-the-u-s'></a>\n",
    "<br /><br /><br /><br /><br /><br /><br /><br /><br /><br /><br /><br />\n",
    "\n",
    "+ 간단한 RNN 구현 사례(바로 아래 코드 참고)\n",
    "    + 자료형식: (timesteprs, input_features)인 2D 텐서로 인코딩된 벡터\n",
    "    + 각 타임스텝 t에서 현재 상태와 ((input_features,) 크기의) 입력을 연결하여 출력을 계산함. 그 다음 이 출력을 다음 스텝의 상태로 설정함.\n",
    "    + 첫 번째 타임 스탭에서는 이전 출력이 정의되지 않으므로 현재 상태가 없음. 이때는 네트워크의 **초기 상태**(initial state)인 0 벡터로 상태를 초기화함."
   ]
  },
  {
   "cell_type": "code",
   "execution_count": 1,
   "metadata": {},
   "outputs": [
    {
     "ename": "NameError",
     "evalue": "name 'input_sequences' is not defined",
     "output_type": "error",
     "traceback": [
      "\u001b[1;31m---------------------------------------------------------------------------\u001b[0m",
      "\u001b[1;31mNameError\u001b[0m                                 Traceback (most recent call last)",
      "\u001b[1;32m<ipython-input-1-9a9d739ce7c2>\u001b[0m in \u001b[0;36m<module>\u001b[1;34m\u001b[0m\n\u001b[0;32m      2\u001b[0m \u001b[1;33m\u001b[0m\u001b[0m\n\u001b[0;32m      3\u001b[0m \u001b[0mstate_t\u001b[0m \u001b[1;33m=\u001b[0m \u001b[1;36m0\u001b[0m \u001b[1;31m# 타임스텝 t의 상태\u001b[0m\u001b[1;33m\u001b[0m\u001b[1;33m\u001b[0m\u001b[0m\n\u001b[1;32m----> 4\u001b[1;33m \u001b[1;32mfor\u001b[0m \u001b[0minput_t\u001b[0m \u001b[1;32min\u001b[0m \u001b[0minput_sequences\u001b[0m\u001b[1;33m:\u001b[0m \u001b[1;31m# 시퀀스의 원소를 반복함\u001b[0m\u001b[1;33m\u001b[0m\u001b[1;33m\u001b[0m\u001b[0m\n\u001b[0m\u001b[0;32m      5\u001b[0m     \u001b[0moutput_t\u001b[0m \u001b[1;33m=\u001b[0m \u001b[0mf\u001b[0m\u001b[1;33m(\u001b[0m\u001b[0minput_t\u001b[0m\u001b[1;33m,\u001b[0m \u001b[0mstate_t\u001b[0m\u001b[1;33m)\u001b[0m \u001b[1;31m# 여기서 f 함수는 입력과 상태를 출력으로 변환함.\u001b[0m\u001b[1;33m\u001b[0m\u001b[1;33m\u001b[0m\u001b[0m\n\u001b[0;32m      6\u001b[0m     \u001b[0mstate_t\u001b[0m \u001b[1;33m=\u001b[0m \u001b[0moutput_t\u001b[0m \u001b[1;31m# 출력은 다음 반복을 위한 상태가 됨.\u001b[0m\u001b[1;33m\u001b[0m\u001b[1;33m\u001b[0m\u001b[0m\n",
      "\u001b[1;31mNameError\u001b[0m: name 'input_sequences' is not defined"
     ]
    }
   ],
   "source": [
    "# 의사코드로 표현한 RNN\n",
    "\n",
    "state_t = 0 # 타임스텝 t의 상태\n",
    "for input_t in input_sequences: # 시퀀스의 원소를 반복함\n",
    "    output_t = f(input_t, state_t) # 여기서 f 함수는 입력과 상태를 출력으로 변환함.\n",
    "    state_t = output_t # 출력은 다음 반복을 위한 상태가 됨."
   ]
  },
  {
   "cell_type": "code",
   "execution_count": 2,
   "metadata": {},
   "outputs": [
    {
     "ename": "NameError",
     "evalue": "name 'input_sequences' is not defined",
     "output_type": "error",
     "traceback": [
      "\u001b[1;31m---------------------------------------------------------------------------\u001b[0m",
      "\u001b[1;31mNameError\u001b[0m                                 Traceback (most recent call last)",
      "\u001b[1;32m<ipython-input-2-071078db79c4>\u001b[0m in \u001b[0;36m<module>\u001b[1;34m\u001b[0m\n\u001b[0;32m      2\u001b[0m \u001b[1;33m\u001b[0m\u001b[0m\n\u001b[0;32m      3\u001b[0m \u001b[0mstate_t\u001b[0m \u001b[1;33m=\u001b[0m \u001b[1;36m0\u001b[0m\u001b[1;33m\u001b[0m\u001b[1;33m\u001b[0m\u001b[0m\n\u001b[1;32m----> 4\u001b[1;33m \u001b[1;32mfor\u001b[0m \u001b[0minput_t\u001b[0m \u001b[1;32min\u001b[0m \u001b[0minput_sequences\u001b[0m\u001b[1;33m:\u001b[0m \u001b[1;31m# 시퀀스의 원소를 반복함\u001b[0m\u001b[1;33m\u001b[0m\u001b[1;33m\u001b[0m\u001b[0m\n\u001b[0m\u001b[0;32m      5\u001b[0m     \u001b[0moutput_t\u001b[0m \u001b[1;33m=\u001b[0m \u001b[0mactivation\u001b[0m\u001b[1;33m(\u001b[0m\u001b[0mdot\u001b[0m\u001b[1;33m(\u001b[0m\u001b[0mW\u001b[0m\u001b[1;33m,\u001b[0m \u001b[0minput_t\u001b[0m\u001b[1;33m)\u001b[0m \u001b[1;33m+\u001b[0m \u001b[0mdot\u001b[0m\u001b[1;33m(\u001b[0m\u001b[0mU\u001b[0m\u001b[1;33m,\u001b[0m \u001b[0mstate_t\u001b[0m\u001b[1;33m)\u001b[0m \u001b[1;33m+\u001b[0m \u001b[0mb\u001b[0m\u001b[1;33m)\u001b[0m\u001b[1;33m\u001b[0m\u001b[1;33m\u001b[0m\u001b[0m\n\u001b[0;32m      6\u001b[0m     \u001b[0mstate_t\u001b[0m \u001b[1;33m=\u001b[0m \u001b[0moutput_t\u001b[0m \u001b[1;31m# 출력은 다음 반복을 위한 상태가 됨.\u001b[0m\u001b[1;33m\u001b[0m\u001b[1;33m\u001b[0m\u001b[0m\n",
      "\u001b[1;31mNameError\u001b[0m: name 'input_sequences' is not defined"
     ]
    }
   ],
   "source": [
    "# 좀 더 자세한 의사코드로 표현한 RNN\n",
    "\n",
    "state_t = 0\n",
    "for input_t in input_sequences: # 시퀀스의 원소를 반복함\n",
    "    output_t = activation(dot(W, input_t) + dot(U, state_t) + b) \n",
    "    state_t = output_t # 출력은 다음 반복을 위한 상태가 됨."
   ]
  },
  {
   "cell_type": "code",
   "execution_count": 3,
   "metadata": {},
   "outputs": [],
   "source": [
    "# 넘파이로 구현한 간단한 RNN\n",
    "\n",
    "import numpy as np\n",
    "\n",
    "timesteps = 100 # 입력 시퀀스에 있는 타임 스텝 수\n",
    "input_features = 32 # 입력 특성의 차원\n",
    "output_features = 64 # 출력 특성의 차원\n",
    "\n",
    "inputs = np.random.random((timesteps, input_features)) # 입력데이터: 예제를 위해 생성한 난수\n",
    "\n",
    "state_t = np.zeros((output_features, )) # 초기 상태: 모두 0인 데이터\n",
    "\n",
    "# 랜덤한 가중치 생성\n",
    "W = np.random.random((output_features, input_features))\n",
    "U = np.random.random((output_features, output_features))\n",
    "b = np.random.random((output_features, ))\n",
    "\n",
    "successive_outputs = []\n",
    "for input_t in inputs:  # input_t는 크기가 (input_features,)인 벡터\n",
    "    output_t = np.tanh(np.dot(W, input_t) + np.dot(U, state_t) + b) # 입력과 현재 상태(이전 출력)를 연결하여 현재 출력을 얻음.\n",
    "    \n",
    "    successive_outputs.append(output_t) # 이 출력을 리스트에 저장함.\n",
    "    \n",
    "    sate_t = output_t # 다음 타임스텝을 위해 네트워크의 상태를 업데이트 함.\n",
    "    \n",
    "final_output_sequence = np.stack(successive_outputs, axis = 0) # 최종 출력은 크기가 (timesteps, output_features)인 2D 텐서임."
   ]
  },
  {
   "cell_type": "markdown",
   "metadata": {},
   "source": [
    "+ 정리하면 RNN은 반복할 때 이전에 계산한 정보를 재사용하는 for 루프에 지나지 않음.\n",
    "+ RNN은 스텝(step) 함수에 의해 특화됨.\n",
    "    +  *output_t = np.tanh(np.dot(W, input_t) + np.dot(U, state_t) + b)* # 입력과 현재 상태(이전 출력)를 연결하여 현재 출력을 얻음."
   ]
  },
  {
   "cell_type": "markdown",
   "metadata": {},
   "source": [
    "---"
   ]
  },
  {
   "cell_type": "markdown",
   "metadata": {},
   "source": [
    "## <span style=\"color:orange\">6.2.1.</span> 케라스의 순환 층"
   ]
  },
  {
   "cell_type": "markdown",
   "metadata": {},
   "source": [
    "+ 넘파이로 간단하게 구현한 과정이 케라스의 SimpleRNN 층에 해당돰\n",
    "    + <span style=\"color:violet\">from</span> keras.layers <span style=\"color:violet\">import</span> SimpleRNN\n",
    "\n",
    "\n",
    "+ SimpleRNN은 (batch_size, timesteps, input_feature) 크기의 입력을 받음. SimpleRNN은 **두 가지 모드**로 실행할 수 있음.\n",
    "    1. 각 타임스텝의 출력을 모은 전체 시퀀스를 반환: 3D 텐서 (batch_size, timesteps, output_features)\n",
    "    2. 입력 시퀀스에 대한 마지막 출력: 2D 텐서(batch_size, output_features)\n",
    "        + 이 모드는 객체를 생성할 때 return_sequences 매개변수로 선택할 수 있음."
   ]
  },
  {
   "cell_type": "code",
   "execution_count": 4,
   "metadata": {},
   "outputs": [
    {
     "name": "stderr",
     "output_type": "stream",
     "text": [
      "Using TensorFlow backend.\n"
     ]
    },
    {
     "name": "stdout",
     "output_type": "stream",
     "text": [
      "_________________________________________________________________\n",
      "Layer (type)                 Output Shape              Param #   \n",
      "=================================================================\n",
      "embedding_1 (Embedding)      (None, None, 32)          320000    \n",
      "_________________________________________________________________\n",
      "simple_rnn_1 (SimpleRNN)     (None, 32)                2080      \n",
      "=================================================================\n",
      "Total params: 322,080\n",
      "Trainable params: 322,080\n",
      "Non-trainable params: 0\n",
      "_________________________________________________________________\n"
     ]
    }
   ],
   "source": [
    "# Simple RNN 예제 - 마지막 타임 스텝만 출력\n",
    "import keras\n",
    "from keras.models import Sequential\n",
    "from keras.layers import Embedding, SimpleRNN\n",
    "model = Sequential()\n",
    "model.add(Embedding(10000, 32))\n",
    "model.add(SimpleRNN(32))\n",
    "model.summary()"
   ]
  },
  {
   "cell_type": "code",
   "execution_count": 5,
   "metadata": {},
   "outputs": [
    {
     "name": "stdout",
     "output_type": "stream",
     "text": [
      "_________________________________________________________________\n",
      "Layer (type)                 Output Shape              Param #   \n",
      "=================================================================\n",
      "embedding_2 (Embedding)      (None, None, 32)          320000    \n",
      "_________________________________________________________________\n",
      "simple_rnn_2 (SimpleRNN)     (None, None, 32)          2080      \n",
      "=================================================================\n",
      "Total params: 322,080\n",
      "Trainable params: 322,080\n",
      "Non-trainable params: 0\n",
      "_________________________________________________________________\n"
     ]
    }
   ],
   "source": [
    "# SimpleRNN 예제 - 전체 상태 시퀀스 반환\n",
    "model = Sequential()\n",
    "model.add(Embedding(10000, 32))\n",
    "model.add(SimpleRNN(32, return_sequences = True))\n",
    "model.summary()"
   ]
  },
  {
   "cell_type": "code",
   "execution_count": 6,
   "metadata": {},
   "outputs": [
    {
     "name": "stdout",
     "output_type": "stream",
     "text": [
      "_________________________________________________________________\n",
      "Layer (type)                 Output Shape              Param #   \n",
      "=================================================================\n",
      "embedding_3 (Embedding)      (None, None, 32)          320000    \n",
      "_________________________________________________________________\n",
      "simple_rnn_3 (SimpleRNN)     (None, None, 32)          2080      \n",
      "_________________________________________________________________\n",
      "simple_rnn_4 (SimpleRNN)     (None, None, 32)          2080      \n",
      "_________________________________________________________________\n",
      "simple_rnn_5 (SimpleRNN)     (None, None, 32)          2080      \n",
      "_________________________________________________________________\n",
      "simple_rnn_6 (SimpleRNN)     (None, 32)                2080      \n",
      "=================================================================\n",
      "Total params: 328,320\n",
      "Trainable params: 328,320\n",
      "Non-trainable params: 0\n",
      "_________________________________________________________________\n"
     ]
    }
   ],
   "source": [
    "# 중간 층들이 전체 출력 시퀀스를 반환하도록 설정하는 사례\n",
    "\n",
    "model= Sequential()\n",
    "model.add(Embedding(10000, 32))\n",
    "model.add(SimpleRNN(32, return_sequences = True))\n",
    "model.add(SimpleRNN(32, return_sequences = True))\n",
    "model.add(SimpleRNN(32, return_sequences = True))\n",
    "model.add(SimpleRNN(32)) # 맨 위 층만 마지막 출력을 반환함\n",
    "model.summary()"
   ]
  },
  {
   "cell_type": "markdown",
   "metadata": {},
   "source": [
    "---\n",
    "\n",
    "#### IMDB 리뷰 분류 문제에 SimpleRNN 적용하기"
   ]
  },
  {
   "cell_type": "code",
   "execution_count": 7,
   "metadata": {},
   "outputs": [
    {
     "name": "stdout",
     "output_type": "stream",
     "text": [
      "데이터 로딩 ...\n",
      "25000 훈련 시퀀스\n",
      "25000 테스트 시퀀스\n",
      "시퀀스 패딩 (sample x time)\n",
      "input_train 크기:  (25000, 500)\n",
      "input_test 크기:  (25000, 500)\n"
     ]
    }
   ],
   "source": [
    "# IMDB 데이터 전처리하기\n",
    "\n",
    "from keras.datasets import imdb\n",
    "from keras.preprocessing import sequence\n",
    "\n",
    "max_features = 10000 # 특성으로 사용할 단어의 수\n",
    "maxlen = 500 # 사용할 텍스트의 길이(가장 빈번한 max_features개의 단어만 사용)\n",
    "\n",
    "print('데이터 로딩 ...')\n",
    "(input_train, y_train), (input_test, y_test) = imdb.load_data(num_words = max_features)\n",
    "print(len(input_train), '훈련 시퀀스')\n",
    "print(len(input_test), '테스트 시퀀스')\n",
    "\n",
    "print('시퀀스 패딩 (sample x time)')\n",
    "input_train = sequence.pad_sequences(input_train, maxlen = maxlen)\n",
    "input_test = sequence.pad_sequences(input_test, maxlen = maxlen)\n",
    "print('input_train 크기: ', input_train.shape)\n",
    "print('input_test 크기: ', input_test.shape)"
   ]
  },
  {
   "cell_type": "code",
   "execution_count": 9,
   "metadata": {},
   "outputs": [
    {
     "name": "stdout",
     "output_type": "stream",
     "text": [
      "Train on 20000 samples, validate on 5000 samples\n",
      "Epoch 1/10\n",
      "20000/20000 [==============================] - 36s 2ms/step - loss: 0.5700 - acc: 0.6982 - val_loss: 0.5148 - val_acc: 0.7428\n",
      "Epoch 2/10\n",
      "20000/20000 [==============================] - 32s 2ms/step - loss: 0.3669 - acc: 0.8529 - val_loss: 0.3490 - val_acc: 0.8530\n",
      "Epoch 3/10\n",
      "20000/20000 [==============================] - 32s 2ms/step - loss: 0.2757 - acc: 0.8934 - val_loss: 0.3445 - val_acc: 0.8558\n",
      "Epoch 4/10\n",
      "20000/20000 [==============================] - 33s 2ms/step - loss: 0.2109 - acc: 0.9207 - val_loss: 0.3364 - val_acc: 0.8526\n",
      "Epoch 5/10\n",
      "20000/20000 [==============================] - 32s 2ms/step - loss: 0.1713 - acc: 0.9378 - val_loss: 0.5251 - val_acc: 0.8318\n",
      "Epoch 6/10\n",
      "20000/20000 [==============================] - 32s 2ms/step - loss: 0.1258 - acc: 0.9571 - val_loss: 0.5905 - val_acc: 0.8100\n",
      "Epoch 7/10\n",
      "20000/20000 [==============================] - 32s 2ms/step - loss: 0.0821 - acc: 0.9728 - val_loss: 0.4254 - val_acc: 0.8538\n",
      "Epoch 8/10\n",
      "20000/20000 [==============================] - 32s 2ms/step - loss: 0.0551 - acc: 0.9825 - val_loss: 0.4584 - val_acc: 0.8426\n",
      "Epoch 9/10\n",
      "20000/20000 [==============================] - 32s 2ms/step - loss: 0.0397 - acc: 0.9871 - val_loss: 0.4996 - val_acc: 0.8472\n",
      "Epoch 10/10\n",
      "20000/20000 [==============================] - 32s 2ms/step - loss: 0.0321 - acc: 0.9909 - val_loss: 0.5431 - val_acc: 0.8470\n"
     ]
    }
   ],
   "source": [
    "# Emdedding 층과  SimpleRNN 층을 사용한 모델 훈련하기\n",
    "\n",
    "from keras.layers import Dense\n",
    "\n",
    "model = Sequential()\n",
    "model.add(Embedding(max_features, 32))\n",
    "model.add(SimpleRNN(32))\n",
    "model.add(Dense(1, activation = 'sigmoid'))\n",
    "\n",
    "model.compile(optimizer = 'rmsprop', loss='binary_crossentropy', metrics=['acc']) #comp'il'e과 comp'li'e 혼동 조심!\n",
    "history = model.fit(input_train, y_train,\n",
    "                   epochs = 10,\n",
    "                   batch_size = 128,\n",
    "                   validation_split=0.2)"
   ]
  },
  {
   "cell_type": "code",
   "execution_count": 11,
   "metadata": {},
   "outputs": [
    {
     "data": {
      "image/png": "[encoded data removed]",
      "text/plain": [
       "<Figure size 432x288 with 1 Axes>"
      ]
     },
     "metadata": {
      "needs_background": "light"
     },
     "output_type": "display_data"
    },
    {
     "data": {
      "image/png": "[encoded data removed]",
      "text/plain": [
       "<Figure size 432x288 with 1 Axes>"
      ]
     },
     "metadata": {
      "needs_background": "light"
     },
     "output_type": "display_data"
    }
   ],
   "source": [
    "# 결과 그래프 그리기\n",
    "import matplotlib.pyplot as plt\n",
    "\n",
    "acc = history.history['acc']\n",
    "val_acc = history.history['val_acc']\n",
    "loss = history.history['loss']\n",
    "val_loss = history.history['val_loss']\n",
    "\n",
    "epochs = range(1, len(acc) + 1)\n",
    "\n",
    "plt.plot(epochs, acc, 'bo', label = 'Traning acc')\n",
    "plt.plot(epochs, val_acc, 'b', label = 'Validation acc')\n",
    "plt.title('Traning and validation accuracy')\n",
    "plt.legend()\n",
    "\n",
    "plt.figure()\n",
    "\n",
    "plt.plot(epochs, loss, 'bo', label = 'Traning loss')\n",
    "plt.plot(epochs, val_loss, 'b', label = 'Validation loss')\n",
    "plt.title('Traning and validation loss')\n",
    "plt.legend()\n",
    "\n",
    "plt.show()"
   ]
  },
  {
   "cell_type": "markdown",
   "metadata": {},
   "source": [
    "+ 이 SimpleRNN 모델의 테스트 정확도는 약 85%임.\n",
    "    + 정확률이 상대적으로 낮은 이유는 **전체 시퀀스가 아니라 처음 500개의 단어만 입력에 사용**했기 때문. 즉 적은 정보의 양을 사용하여 모델을 학습하여 성능이 상대적으로 낮음.\n",
    "    + 또 다른 이유는 **SimpleRNN이 텍스트처럼 긴 시퀀스를 처리하는데 적합하지 않기 때문**임."
   ]
  },
  {
   "cell_type": "markdown",
   "metadata": {},
   "source": [
    "## <span style=\"color:orange\">6.2.2.</span> LSTM과 GRU 층 이해하기"
   ]
  },
  {
   "cell_type": "markdown",
   "metadata": {},
   "source": [
    "+ 케라스에서 SimpleRNN 외에 제공하는 또 다른 순환 층: LSTM, GRU\n",
    "+ SimpleRNN은 이론적으로 시간 t에서 이전 모든 타임스텝의 정보를 유지할 수 있지만, 실제로는 긴 시간에 걸친 의존성은 학습할 수 없다는 단점이 있음. **그라디언트 소실 문제**(vanishing gradient problem)가 있기 때문임.\n",
    "+ LSTM과 GRU는 그라디언트 소실 문제를 해결하기 위해 고안된 층임.\n",
    "\n",
    "#### LSTM(장/단기 메모리 알고리즘)\n",
    "+ 호크라이터와 슈미트 후버가 1997년에 개발.\n",
    "+ 이 층은 SimpleRNN의 한 변종으로, 정보를 여러 타임스텝에 걸쳐 나르는 방법이 추가됨.\n",
    "+ 과거의 정보를 일부 저장함으로써 처리 과정에서 오래된 시그널이 소실되는 것을 막아줌.\n",
    "+ **핵심은 과거 정보를 나중에 다시 주입하여 그래디언트 소실 문제를 해결하는 것**임."
   ]
  },
  {
   "cell_type": "markdown",
   "metadata": {},
   "source": [
    "## <span style=\"color:orange\">6.2.3.</span> 케라스를 사용한 LSTM 예제"
   ]
  },
  {
   "cell_type": "markdown",
   "metadata": {},
   "source": [
    "+ LSTM 층으로 구성한 모델 네트워크는 SimpleRNN을 사용한 모델과 비슷함."
   ]
  },
  {
   "cell_type": "code",
   "execution_count": 18,
   "metadata": {},
   "outputs": [
    {
     "name": "stdout",
     "output_type": "stream",
     "text": [
      "Train on 20000 samples, validate on 5000 samples\n",
      "Epoch 1/10\n",
      "20000/20000 [==============================] - 126s 6ms/step - loss: 0.5241 - acc: 0.7516 - val_loss: 0.4041 - val_acc: 0.8250\n",
      "Epoch 2/10\n",
      "20000/20000 [==============================] - 123s 6ms/step - loss: 0.3037 - acc: 0.8809 - val_loss: 0.3392 - val_acc: 0.8614\n",
      "Epoch 3/10\n",
      "20000/20000 [==============================] - 124s 6ms/step - loss: 0.2387 - acc: 0.9098 - val_loss: 0.4180 - val_acc: 0.8210\n",
      "Epoch 4/10\n",
      "20000/20000 [==============================] - 126s 6ms/step - loss: 0.2084 - acc: 0.9236 - val_loss: 0.3466 - val_acc: 0.8500\n",
      "Epoch 5/10\n",
      "20000/20000 [==============================] - 122s 6ms/step - loss: 0.1831 - acc: 0.9346 - val_loss: 0.3172 - val_acc: 0.8866\n",
      "Epoch 6/10\n",
      "20000/20000 [==============================] - 121s 6ms/step - loss: 0.1648 - acc: 0.9408 - val_loss: 0.3223 - val_acc: 0.8742\n",
      "Epoch 7/10\n",
      "20000/20000 [==============================] - 123s 6ms/step - loss: 0.1464 - acc: 0.9465 - val_loss: 0.4955 - val_acc: 0.8310\n",
      "Epoch 8/10\n",
      "20000/20000 [==============================] - 127s 6ms/step - loss: 0.1296 - acc: 0.9550 - val_loss: 0.3449 - val_acc: 0.8666\n",
      "Epoch 9/10\n",
      "20000/20000 [==============================] - 122s 6ms/step - loss: 0.1237 - acc: 0.9546 - val_loss: 0.3856 - val_acc: 0.8762\n",
      "Epoch 10/10\n",
      "20000/20000 [==============================] - 120s 6ms/step - loss: 0.1123 - acc: 0.9625 - val_loss: 0.3414 - val_acc: 0.8774\n"
     ]
    }
   ],
   "source": [
    "# 케라스에서LSTM 층 사용하기\n",
    "\n",
    "from keras.layers import LSTM\n",
    "\n",
    "model = Sequential()\n",
    "model.add(Embedding(max_features, 32))\n",
    "model.add(LSTM(32))\n",
    "model.add(Dense(1, activation='sigmoid'))\n",
    "\n",
    "model.compile(optimizer = 'rmsprop',\n",
    "              loss = 'binary_crossentropy',\n",
    "              metrics = ['acc'])\n",
    "history = model.fit(input_train, y_train,\n",
    "                   epochs=10,\n",
    "                   batch_size = 128,\n",
    "                   validation_split = 0.2)"
   ]
  },
  {
   "cell_type": "code",
   "execution_count": 19,
   "metadata": {},
   "outputs": [
    {
     "data": {
      "image/png": "[encoded data removed]",
      "text/plain": [
       "<Figure size 432x288 with 1 Axes>"
      ]
     },
     "metadata": {
      "needs_background": "light"
     },
     "output_type": "display_data"
    },
    {
     "data": {
      "image/png": "[encoded data removed]",
      "text/plain": [
       "<Figure size 432x288 with 1 Axes>"
      ]
     },
     "metadata": {
      "needs_background": "light"
     },
     "output_type": "display_data"
    }
   ],
   "source": [
    "# 결과 그래프 그리기\n",
    "import matplotlib.pyplot as plt\n",
    "\n",
    "acc = history.history['acc']\n",
    "val_acc = history.history['val_acc']\n",
    "loss = history.history['loss']\n",
    "val_loss = history.history['val_loss']\n",
    "\n",
    "epochs = range(1, len(acc) + 1)\n",
    "\n",
    "plt.plot(epochs, acc, 'bo', label = 'Traning acc')\n",
    "plt.plot(epochs, val_acc, 'b', label = 'Validation acc')\n",
    "plt.title('Traning and validation accuracy')\n",
    "plt.legend()\n",
    "\n",
    "plt.figure()\n",
    "\n",
    "plt.plot(epochs, loss, 'bo', label = 'Traning loss')\n",
    "plt.plot(epochs, val_loss, 'b', label = 'Validation loss')\n",
    "plt.title('Traning and validation loss')\n",
    "plt.legend()\n",
    "\n",
    "plt.show()"
   ]
  },
  {
   "cell_type": "markdown",
   "metadata": {},
   "source": [
    "+ 이번에는 검증 정확률이 88%로 SimpleRNN보다 향상되었음.\n",
    "+ LSTM은 SimpleRNN 네트워크보다 그래디언트 소실 문제로부터 덜 영향을 받기 때문에 나은 성능을 보임.\n",
    "+ 획기적으로 성능이 높지 않은 이유는 임베딩 차원이나 LSTM의 출력 차원과 같은 하이퍼파라미터를 전혀 튜닝하지 않았기 때문임.\n",
    "+ 또 하나는 규제(regularization)가 없기 때문임.\n",
    "    + 리뷰를 전체적으로 길게 분석하는 것(LSTM이 잘 하는 일)은 감성 분류 문제에 도움이 되지 않음.\n",
    "    + 이런 간단한 문제는 각 리뷰에 어떤 단어가 얼마나 등장하는지 보는 것이 효과적(완전 연결 네트워크가 사용한 방법).\n",
    "    + 대신, LSTM은 질문-응답과 기계 번역 분야에서 좋은 성능을 보임."
   ]
  },
  {
   "cell_type": "markdown",
   "metadata": {},
   "source": [
    "## <span style=\"color:orange\">6.2.4.</span> 정리\n",
    "다음의 내용을 복습할 필요가 있음.\n",
    "+ RNN이 무엇이고 어떻게 동작하는가?\n",
    "+ LSTM이 무엇이고 긴 시퀀스에서 단순한 RNN보다 더 잘 작동하는 이유는 무엇인가?\n",
    "+ 케라스에서 RNN 층을 이용하여 시퀀스 데이터를 처리하는 방법"
   ]
  }
 ],
 "metadata": {
  "kernelspec": {
   "display_name": "Python 3",
   "language": "python",
   "name": "python3"
  },
  "language_info": {
   "codemirror_mode": {
    "name": "ipython",
    "version": 3
   },
   "file_extension": ".py",
   "mimetype": "text/x-python",
   "name": "python",
   "nbconvert_exporter": "python",
   "pygments_lexer": "ipython3",
   "version": "3.6.7"
  }
 },
 "nbformat": 4,
 "nbformat_minor": 2
}
