{
 "cells": [
  {
   "cell_type": "markdown",
   "metadata": {},
   "source": [
    "# 주택가격 예측: 회귀문제\n",
    "\n",
    "1. 회귀(regression)는 개별적인 레이블(분류) 대신 연속적인 값을 예측하는 것\n",
    "2. 예시\n",
    "    + 기상데이터가 주어졌을 때 내일 기온 예측하기\n",
    "    + 소프트웨어 명세가 주어졌을 때 소프트웨어 프로젝트가 완료될 시간을 예측하는 것"
   ]
  },
  {
   "cell_type": "markdown",
   "metadata": {},
   "source": [
    "## <span style=\"color:orange\"> 1. </span> <span style=\"color:black\">보스턴 주택 가격 데이터셋</span>\n",
    "+ 1970년대 보스턴 외각 지역의 범죄율, 지방세율 등의 데이터가 주어졌을 때 주택 가격의 중간값을 예측하는 것.\n",
    "+ 데이터 포인트가 506개로 적음. 404개는 훈련 샘플, 102개는 테스트 샘플로 구분됨.\n",
    "+ 입력 데이터에 있는 각 특성(feature)은 스케일이 서로 다름.\n",
    "+ 어떤 값은 0과 1 사이의 비율, 어떤 것은 1과 100 사이의 값을 가짐"
   ]
  },
  {
   "cell_type": "code",
   "execution_count": 1,
   "metadata": {},
   "outputs": [
    {
     "name": "stderr",
     "output_type": "stream",
     "text": [
      "Using TensorFlow backend.\n"
     ]
    },
    {
     "name": "stdout",
     "output_type": "stream",
     "text": [
      "(404, 13)\n",
      "(102, 13)\n"
     ]
    }
   ],
   "source": [
    "# 보스턴 주택 데이터셋 로드하기\n",
    "from keras.datasets import boston_housing\n",
    "(train_data, train_targets), (test_data, test_targets) = boston_housing.load_data()\n",
    "\n",
    "# 데이터 살펴보기\n",
    "print(train_data.shape)\n",
    "print(test_data.shape)"
   ]
  },
  {
   "cell_type": "markdown",
   "metadata": {},
   "source": [
    "## <span style=\"color:orange\"> 2. </span> <span style=\"color:black\"> 데이터 준비</span>\n",
    "\n",
    "+ 상이한 스케일을 가진 값을 신경망에 주입하면 문제가 됨.\n",
    "+ 이런 데이터를 다루는 대표적인 방법은 특성별로 정규화(noramlize)를 하는 것임.\n",
    "+ 입력 데이터에 있는 각 특성(입력 데이터 행렬의 열)에 대해 특성의 평균을 빼고 표준편차로 나눔.\n",
    "+ 특성의 중앙이 0 근처에 맞춰지고 표준편차가 1이 됨. 넘파이를 사용하면 편함.\n",
    "+ 표준화 과정에서 훈련용 데이터 셋을 이용하여 계산된 평균과 표준편차를 사용해야 함. **머신러닝 작업 과정에서 절대로 테스트 데이터에서 계산한 어떤 값도 사용해서는 안 됨.**"
   ]
  },
  {
   "cell_type": "code",
   "execution_count": 2,
   "metadata": {},
   "outputs": [],
   "source": [
    "# 데이터 정규화하기\n",
    "\n",
    "mean = train_data.mean(axis=0)\n",
    "train_data -= mean\n",
    "std = train_data.std(axis=0)\n",
    "train_data -= std\n",
    "\n",
    "test_data -= mean # 훈련용 데이터의 평균과 표준편차로 표준화를 실시한 것을 주목하라.\n",
    "test_data /= std"
   ]
  },
  {
   "cell_type": "markdown",
   "metadata": {},
   "source": [
    "## <span style=\"color:orange\"> 3. </span><span style=\"color:black\"> 모델 구성</span>\n",
    "\n",
    "+ 샘플 개수(N=506)가 적기 때문에 64개의 유닛을 가진 2개의 은닉 층으로 작은 데이터를 구성하여 사용\n",
    "+ 일반적으로 훈련 데이터의 개수가 적을수록 과대적합이 더 쉽게 일어남.\n",
    "+ 이런 경우 작은 모델을 사용하는 것이 과대적합을 피하는 한 방법임\n",
    "+ 회귀 문제에는 일반적으로 하나의 유닛을 갖고 있고 활성화 함수를 사용하지 않음(일반적으로 선형층이라 부름)\n",
    "+ 손실함수(loss function)로는 평균제곱오차를 일반적으로 사용함. 평균 절대 오차(mean absolute error, mae)는 예측과 타깃 사이의 거리의 절댓을 의미함."
   ]
  },
  {
   "cell_type": "code",
   "execution_count": 8,
   "metadata": {},
   "outputs": [],
   "source": [
    "# 모델 정의하기\n",
    "\n",
    "from keras import models\n",
    "from keras import layers\n",
    "\n",
    "def build_model(): # 동일한 모델을 여러번 생성할 것이므로 함수를 만들어 사용함.\n",
    "    model = models.Sequential()\n",
    "    model.add(layers.Dense(64, activation = 'relu',\n",
    "                          input_shape = (train_data.shape[1],)))\n",
    "    model.add(layers.Dense(64, activation = 'relu'))\n",
    "    model.add(layers.Dense(1)) # 회귀 모델에서는 일반적으로 하나의 유닛을 갖고 있고, 활성화 함수가 없음(출력값을 제한하기 때문).\n",
    "    # 손실함수: mse(평균제곱오차, mean square error). 훈련 모니터링: mae(평균절대오차, mean absolute error)\n",
    "    model.compile(optimizer = 'rmsprop', loss = 'mse', metrics = ['mae']) \n",
    "    return model"
   ]
  },
  {
   "cell_type": "markdown",
   "metadata": {},
   "source": [
    "## <span style=\"color:orange\"> 4. </span><span style=\"color:black\"> K-겹 검증을 사용한 훈련 검증</span>\n",
    "\n",
    "+ 데이터 포인트가 많지 않기 때문에 검증 세트가 작을 수밖에 없음(N=102). 이 경우 검증 세트의 분할에 따라 검증 점수의 분산이 높음. 이렇게 되면 신뢰 있는 모델 평가를 할 수 없음.\n",
    "+ 이런 상황에서 **K-겹 교차 검증(K-fold cross-validation)** 을 사용할 수 있음.\n",
    "+ 이 방법은 데이터를 K 개의 분할(fold)로 나누고, K개의 모델을 만들어 각각 K-1개의 분할에서 훈련하고 나머지 한 개의 분할에서 평가함. 일반적으로 4겹 혹은 5겹 교차검증을 사용함.\n",
    "+ 모델의 검증 점수는 K개의 검증 점수 평균이 됨.\n",
    "\n",
    "*교차 검증 예시*\n",
    "\n",
    "<a href=\"https://ibb.co/sRvmJjt\"><img src=\"https://i.ibb.co/wgN0ryY/1.jpg\" alt=\"1\" border=\"0\" align = 'left'></a>"
   ]
  },
  {
   "cell_type": "code",
   "execution_count": 10,
   "metadata": {},
   "outputs": [
    {
     "name": "stdout",
     "output_type": "stream",
     "text": [
      "처리중인 폴드 # 0\n",
      "처리중인 폴드 # 1\n",
      "처리중인 폴드 # 2\n",
      "처리중인 폴드 # 3\n"
     ]
    }
   ],
   "source": [
    "# K-겹 검증하기\n",
    "import numpy as np\n",
    "\n",
    "k = 4\n",
    "num_val_samples = len(train_data)//k\n",
    "num_epochs = 100\n",
    "all_scores = []\n",
    "\n",
    "for i in range(k):\n",
    "    print('처리중인 폴드 #', i)\n",
    "    val_data = train_data[i * num_val_samples: (i+1) * num_val_samples]\n",
    "    val_targets = train_targets[i * num_val_samples: (i+1) * num_val_samples]\n",
    "    \n",
    "    # 훈련 데이터 준비: 다른 분할 전체\n",
    "    partial_train_data = np.concatenate(\n",
    "    [train_data[:i * num_val_samples],\n",
    "    train_data[(i+1) * num_val_samples:]], \n",
    "    axis = 0)\n",
    "\n",
    "    partial_train_targets = np.concatenate(\n",
    "    [train_targets[:i * num_val_samples],\n",
    "    train_targets[(i+1) * num_val_samples:]], \n",
    "    axis = 0)\n",
    "    \n",
    "    model = build_model() # 케라스 모델 구성(컴파일 포함)\n",
    "    model.fit(partial_train_data, partial_train_targets,\n",
    "             epochs = num_epochs, batch_size = 1, verbose = 0)  #verbose = 0으로 설정하면 훈련 과정이 출력되지 않음.\n",
    "    val_mse, val_mae = model.evaluate(val_data, val_targets, verbose = 0)\n",
    "    all_scores.append(val_mae)  "
   ]
  },
  {
   "cell_type": "code",
   "execution_count": 15,
   "metadata": {},
   "outputs": [
    {
     "name": "stdout",
     "output_type": "stream",
     "text": [
      "[2.3287519676850574, 2.7868107002560456, 2.691815532080018, 2.48827060024337]\n",
      "2.5739122000661228\n"
     ]
    }
   ],
   "source": [
    "# mae 결과\n",
    "print(all_scores)\n",
    "\n",
    "# mae 평균\n",
    "print(np.mean(all_scores))"
   ]
  },
  {
   "cell_type": "code",
   "execution_count": 16,
   "metadata": {
    "scrolled": true
   },
   "outputs": [
    {
     "name": "stdout",
     "output_type": "stream",
     "text": [
      "처리중인 폴드 # 0\n",
      "처리중인 폴드 # 1\n",
      "처리중인 폴드 # 2\n",
      "처리중인 폴드 # 3\n"
     ]
    }
   ],
   "source": [
    "# 훈련 횟수를 500 에포크로 늘려보기\n",
    "# 각 폴드에서 검증 점수를 로그에 저장하기\n",
    "\n",
    "num_epochs = 500\n",
    "all_mae_histories = []\n",
    "\n",
    "for i in range(k):\n",
    "    print('처리중인 폴드 #', i)\n",
    "    val_data = train_data[i * num_val_samples: (i+1) * num_val_samples]\n",
    "    val_targets = train_targets[i * num_val_samples: (i+1) * num_val_samples]\n",
    "    \n",
    "    # 훈련 데이터 준비: 다른 분할 전체\n",
    "    partial_train_data = np.concatenate(\n",
    "    [train_data[:i * num_val_samples],\n",
    "    train_data[(i+1) * num_val_samples:]], \n",
    "    axis = 0)\n",
    "\n",
    "    partial_train_targets = np.concatenate(\n",
    "    [train_targets[:i * num_val_samples],\n",
    "    train_targets[(i+1) * num_val_samples:]], \n",
    "    axis = 0)\n",
    "    \n",
    "    model = build_model() # 케라스 모델 구성(컴파일 포함)\n",
    "    history = model.fit(partial_train_data, partial_train_targets,\n",
    "                        validation_data = (val_data, val_targets),\n",
    "                        epochs = num_epochs, batch_size = 1, verbose = 0)  #verbose = 0으로 설정하면 훈련 과정이 출력되지 않음.\n",
    "    mae_history = history.history['val_mean_absolute_error']\n",
    "    all_mae_histories.append(mae_history)\n",
    "\n",
    "    \n",
    "# K겹 검증 점수 평균을 기록하기\n",
    "average_mae_history = [np.mean([x[i] for x in all_mae_histories]) for i in range(num_epochs)]"
   ]
  },
  {
   "cell_type": "code",
   "execution_count": 18,
   "metadata": {},
   "outputs": [
    {
     "data": {
      "image/png": "[encoded data removed]",
      "text/plain": [
       "<Figure size 432x288 with 1 Axes>"
      ]
     },
     "metadata": {
      "needs_background": "light"
     },
     "output_type": "display_data"
    }
   ],
   "source": [
    "# 검증 점수 그래프\n",
    "\n",
    "import matplotlib.pyplot as plt\n",
    "\n",
    "plt.plot(range(1, len(average_mae_history)+1), average_mae_history)\n",
    "plt.xlabel('Epochs')\n",
    "plt.ylabel('Validation MAE')\n",
    "plt.show()"
   ]
  },
  {
   "cell_type": "code",
   "execution_count": 19,
   "metadata": {},
   "outputs": [
    {
     "data": {
      "image/png": "[encoded data removed]",
      "text/plain": [
       "<Figure size 432x288 with 1 Axes>"
      ]
     },
     "metadata": {
      "needs_background": "light"
     },
     "output_type": "display_data"
    }
   ],
   "source": [
    "'''\n",
    "위의 그림에서 훈련 초기에는 mae의 범위가 크고 변동이 심합니다. \n",
    "그래서 이 데이터 포인트를 제외하고 그림을 만들 것임..\n",
    "부드러운 곡선을 얻기 위해 각 포인트를 이전 포인트의 지수 이동 평균으로 대체.\n",
    "*지수 평균 이동: 시계열 데이터를 부드럽게 만드는 기법 중 하나.\n",
    "'''\n",
    "\n",
    "# 처음 10개의 데이터 포인트를 제외한 검증 점수 그리기\n",
    "\n",
    "def smooth_curve(points, factor = 0.9):\n",
    "    smoothed_points = []\n",
    "    \n",
    "    for point in points:\n",
    "        if smoothed_points:\n",
    "            previous = smoothed_points[-1]\n",
    "            smoothed_points.append(previous*factor+point*(1-factor))\n",
    "        else:\n",
    "            smoothed_points.append(point)\n",
    "    return smoothed_points\n",
    "\n",
    "smooth_mae_history = smooth_curve(average_mae_history[10:])\n",
    "\n",
    "plt.plot(range(1, len(smooth_mae_history)+1), smooth_mae_history)\n",
    "plt.xlabel('Epochs')\n",
    "plt.ylabel('Vlidation MAE')\n",
    "plt.show()"
   ]
  },
  {
   "cell_type": "code",
   "execution_count": null,
   "metadata": {},
   "outputs": [],
   "source": [
    "# 최종 모델 훈련하기\n",
    "model = build_model()\n",
    "model.fit(train_data, train_target,\n",
    "         epochs = 80, batch_size = 16, verbose = 0)\n",
    "test_mse_score, test_mae_score = model.evaluate(test_data, test_targets)"
   ]
  },
  {
   "cell_type": "markdown",
   "metadata": {},
   "source": [
    "## <span style=\"color:orange\"> 5. </span><span style=\"color:black\"> 정리</span>\n",
    "\n",
    "+ 회귀는 분류에서 사용한 것과 다른 손실함수(mse)를 사용함.\n",
    "+ 회귀에서 사용되는 평가 지표는 분류 문제외는 다름. 일반적인 회귀 지표는 평균 절대 오차(mae)임.\n",
    "+ 입력 데이터의 특성이 서로 다른 범위를 가지면 전처리 단계에서 각 특성의 스케일을 개별적으로 조정해야 함: 표준화.\n",
    "+ 가용한 데이터가 적다면 K-겹 ㅂ검증을 사용하는 것이 신뢰할 수 있는 모델 평가 방법임.\n",
    "+ 가용한 훈련 데이터가 적다면 과대적합을 피하기 위해 은닉 층의 수를 줄인 모델이 좋음(일반적으로 1개 또는 2개)."
   ]
  }
 ],
 "metadata": {
  "kernelspec": {
   "display_name": "Python 3",
   "language": "python",
   "name": "python3"
  },
  "language_info": {
   "codemirror_mode": {
    "name": "ipython",
    "version": 3
   },
   "file_extension": ".py",
   "mimetype": "text/x-python",
   "name": "python",
   "nbconvert_exporter": "python",
   "pygments_lexer": "ipython3",
   "version": "3.6.7"
  }
 },
 "nbformat": 4,
 "nbformat_minor": 2
}
