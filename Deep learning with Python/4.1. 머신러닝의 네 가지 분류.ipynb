{
 "cells": [
  {
   "cell_type": "markdown",
   "metadata": {},
   "source": [
    "# 4.1. 머신러닝의 네 가지 분류\n",
    "+ **지도 학습(supervised learning)**: 훈련 데이터의 입력과 타깃 사이에 있는 관계를 학습하는 것(예, 이진분류, 다중 분류, 스칼라 회귀)\n",
    "+ 지도학습 외에도 다양한 머신러닝 알고리즘이 있음."
   ]
  },
  {
   "cell_type": "markdown",
   "metadata": {},
   "source": [
    "## <span style=\"color:orange\"> 4.1.1. </span> <span style=\"color:black\">지도 학습</span>\n",
    "+ 샘플 데이터가 주어지면 알고 있는 타깃에 입력 데이터를 매핑하는 방법을 학습함.\n",
    "+ 음성 인식, 이미지 분류, 언어 번역 같은 딥러닝의 거의 모든 애플리케이션이 일반적으로 이 범주에 속함.\n",
    "+ 지도학습은 대부분 *분류*와 *회귀*로 구성되지만 다음과 같은 특이한 변종도 있음.\n",
    "    + **시퀀스 생성**(sequence generation): 사진이 주어지면 이를 설명하는 캡션을 생성.\n",
    "    + **구문 트리**(syntax tree): 문장이 주어지면 분해된 구문 트리를 예측\n",
    "    + **물체 감지**(object detection): 사진이 주어지면 사진 안의 특정 물체 주위에 경계 상자를 그림.\n",
    "    + **이미지 분할**(image segmentation): 사진이 주어졌을 때 픽셀 단위로 특정 물체에 마스킹을 함."
   ]
  },
  {
   "cell_type": "markdown",
   "metadata": {},
   "source": [
    "## <span style=\"color:orange\"> 4.1.2. </span> <span style=\"color:black\">비지도 학습</span>\n",
    "+ 어떤 타깃도 사용하지 않고 입력 데이터를 변환하는 것.\n",
    "+ 데이터 시각화, 데이터 압축, 데이터의 노이즈 제거 또는 데이터에 있는 상관관계를 더 잘 이해하기 위해 사용.\n",
    "+ **비지도학습**(unsupervised learning)은 데이터 분석에서 빼놓을 수 없는 요소이며, 종종 지도학습 문제를 풀기 전에 데이터를 더 잘 이해하기 위해 필수적으로 거치는 단계임.\n",
    "+ **차원축소**(dimension reduction)와 **군집**(clustering)이 학습에서 잘 알려진 범주임."
   ]
  },
  {
   "cell_type": "markdown",
   "metadata": {},
   "source": [
    "## <span style=\"color:orange\"> 4.1.3. </span> <span style=\"color:black\">자기 지도 학습</span>\n",
    "+ **자기 지도 학습**(self-supervised learning)은 지도 학습의 특별한 경우이지만 다른 측면이 있음.\n",
    "+ 구체적으로, 자기 지도 학습은 지도 학습이지만 사람이 만든 레이블을 사용하지 않음. 레이블이 여전히 필요하지만 보통 경험적인 알고리즘(huristic algorithm)을 사용해서 입력 데이터로부터 생성함.\n",
    "+ 예를 들어, **오토인코더**(autoencoder)가 있음.\n",
    "+ 자기 지도 학습은 학습 메커니즘과 애플리케이션 측면 중 어디에 중점을 두는지에 따라 지도 학습 또는 비지도 학습으로 재해석될 수 있음."
   ]
  },
  {
   "cell_type": "markdown",
   "metadata": {},
   "source": [
    "## <span style=\"color:orange\"> 4.1.4. </span> <span style=\"color:black\">강화학습</span>\n",
    "+ **강화학습(reinforcement learning)** 에서 에이전트(agent)는 환경에 대한 정보를 받아 보상을 최대화하는 행동을 선택하도록 학습됨.\n",
    "+ 예를 들어, 비디오 게임 화면에서 입력을 받고 게임 점수를 최대화하기 위한 게임 내의 행동을 출력할 수 있음."
   ]
  },
  {
   "cell_type": "markdown",
   "metadata": {},
   "source": [
    "| <span style=\"color:orange\"> Note</span>. 분류와 회귀에서 사용하는 용어 | 설명 |\n",
    "| ---: | :--- |\n",
    "| **샘플** 또는 **입력** | 모델이 주입될 하나의 데이터 포인트 |\n",
    "| **예측** 또는 **출력** | 모델로부터 나오는 값 |\n",
    "| **타깃** | 정답. 외부 데이터 소스에 근거하여 모델이 완벽하게 예측해야 하는 값 |\n",
    "| **예측 오차** 또는 **손실 값** | 모델의 예측과 타깃 사이의 거리를 측정한 값 |\n",
    "|**클래스**|분류 문제에서 선택할 수 있는 가능한 레이블의 집함. 예를 들어 계절을 분류할 때 클래스는 '봄', '여름', '가을', '겨울' 4개임 |\n",
    "| **레이블** | 분류 문제에서 클래스 할당의 구체적인 사례. 예를들어 사진 #hello에 눈과 사람이 있다면 '겨울'은 사진 #hello의 레이블이 됨 |\n",
    "| **참 값** (ground-truth) | 정답. 외부 데이터 소스에 근거하여 모델이 완벽하게 예측해야 하는 값 |\n",
    "| **이진 분류** | 각 입력 샘플이 두 개의 배타적인 범주로 구분되는 분류 작업 |\n",
    "| **다중 분류** | 각 입력 샘플이 두 개 이상의 범주로 구분되는 분류 작업(예, 손글씨 숫자 분류) |\n",
    "| **다중 레이블 분류** | 각 입력 샘플이 여러개의 레이블에 할당될 수 있는 분류 작업 |\n",
    "| **스칼라 회귀** | 타깃이 연속적인 스칼라 값인 작업(예, 주택 가격 예측) |\n",
    "| **벡터 회귀** | 타깃이 연속적인 값의 집합인 작업. 여러 개의 값에 대한 회귀를 할 경우에 해당 |\n",
    "| **미니 배치** 또는 **배치** | 모델에 의해 동시에 처리되는 소량의 샘플 묶음(일반적으로 8~128개 사이) |"
   ]
  }
 ],
 "metadata": {
  "kernelspec": {
   "display_name": "Python 3",
   "language": "python",
   "name": "python3"
  },
  "language_info": {
   "codemirror_mode": {
    "name": "ipython",
    "version": 3
   },
   "file_extension": ".py",
   "mimetype": "text/x-python",
   "name": "python",
   "nbconvert_exporter": "python",
   "pygments_lexer": "ipython3",
   "version": "3.6.7"
  }
 },
 "nbformat": 4,
 "nbformat_minor": 2
}
