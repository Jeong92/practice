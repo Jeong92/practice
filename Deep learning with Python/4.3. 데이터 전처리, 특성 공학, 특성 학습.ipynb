{
 "cells": [
  {
   "cell_type": "markdown",
   "metadata": {},
   "source": [
    "# 4.3. 데이터 전처리, 특성 공학, 특성 학습\n",
    "\n",
    "+ 많은 데이터 전처리와 특성 공학 기법은 특성 도메인에 종속적임.\n",
    "+ 예를 들어 텍스트 데이터나 이미지 데이터에 특화되어 있음.\n",
    "+ 여기서는 모든 종류의 데이터에 공통되는 기본 사항을 살펴볼 것임."
   ]
  },
  {
   "cell_type": "code",
   "execution_count": null,
   "metadata": {},
   "outputs": [],
   "source": []
  },
  {
   "cell_type": "code",
   "execution_count": null,
   "metadata": {},
   "outputs": [],
   "source": []
  }
 ],
 "metadata": {
  "kernelspec": {
   "display_name": "Python 3",
   "language": "python",
   "name": "python3"
  },
  "language_info": {
   "codemirror_mode": {
    "name": "ipython",
    "version": 3
   },
   "file_extension": ".py",
   "mimetype": "text/x-python",
   "name": "python",
   "nbconvert_exporter": "python",
   "pygments_lexer": "ipython3",
   "version": "3.6.7"
  }
 },
 "nbformat": 4,
 "nbformat_minor": 2
}
